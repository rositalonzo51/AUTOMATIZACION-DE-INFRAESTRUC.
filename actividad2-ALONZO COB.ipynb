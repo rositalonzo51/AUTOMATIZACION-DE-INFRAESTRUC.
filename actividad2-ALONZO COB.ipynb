{
 "cells": [
  {
   "cell_type": "code",
   "execution_count": 7,
   "id": "dynamic-organic",
   "metadata": {},
   "outputs": [
    {
     "name": "stdout",
     "output_type": "stream",
     "text": [
      "¿Cuál es tu peso en kg? 80\n",
      "¿Cuál es tu estatura en metros?1.70\n",
      "Tu índice de masa corporal es 27.68\n"
     ]
    }
   ],
   "source": [
    "#EJERCICIO7\n",
    "peso = input(\"¿ingresa tu peso en kg? \")\n",
    "estatura = input(\"¿ingresa estatura en metros?\")\n",
    "imc = round(float(peso)/float(estatura)**\n",
    "            2,2)\n",
    "print(\"Tu índice de masa corporal es \" + str(imc))"
   ]
  },
  {
   "cell_type": "code",
   "execution_count": 8,
   "id": "executed-opposition",
   "metadata": {},
   "outputs": [
    {
     "name": "stdout",
     "output_type": "stream",
     "text": [
      "Introduce el dividendo (entero): 10\n",
      "Introduce el divisor (entero): 5\n",
      "10 entre 5 da un cociente 2 y un resto 0\n"
     ]
    }
   ],
   "source": [
    "#EJERCICIO8\n",
    "n = input(\"Introduce el dividendo (entero): \")\n",
    "m = input(\"Introduce el divisor (entero): \")\n",
    "print(n + \" entre \" +  m + \" da un cociente \" + str(int(n) // int(m)) + \" y un resto \" + str(int(n) % int(m)))"
   ]
  },
  {
   "cell_type": "code",
   "execution_count": 9,
   "id": "choice-investigation",
   "metadata": {},
   "outputs": [
    {
     "name": "stdout",
     "output_type": "stream",
     "text": [
      "¿ ingresa la antidad a invertir? 5000\n",
      "¿ingresa el interés porcentual anual? 10\n",
      "¿Años?6\n",
      "Capital final: 8857.81\n"
     ]
    }
   ],
   "source": [
    "#EJERCICIO09\n",
    "cantidad = float(input(\"¿ ingresa la antidad a invertir? \"))\n",
    "interes = float(input(\"¿ingresa el interés porcentual anual? \"))\n",
    "años = int(input(\"¿Años?\"))\n",
    "print(\"Capital final: \" + str(round(cantidad * (interes / 100 + 1) ** años, 2)))"
   ]
  },
  {
   "cell_type": "code",
   "execution_count": 10,
   "id": "cheap-period",
   "metadata": {},
   "outputs": [
    {
     "name": "stdout",
     "output_type": "stream",
     "text": [
      "Introduce el número de payasos a enviar: 100\n",
      "Introduce el número de muñecas a enviar: 250\n",
      "El peso total del paquete es 29950\n"
     ]
    }
   ],
   "source": [
    "#EJERCICIO10\n",
    "peso_payaso = 112\n",
    "peso_muñeca = 75\n",
    "payasos = int(input(\"Introduce el número de payasos a enviar: \"))\n",
    "muñecas = int(input(\"Introduce el número de muñecas a enviar: \"))\n",
    "peso_total = peso_payaso * payasos + peso_muñeca * muñecas\n",
    "print(\"El peso total del paquete es \" + str(peso_total))"
   ]
  },
  {
   "cell_type": "code",
   "execution_count": 11,
   "id": "frequent-earthquake",
   "metadata": {},
   "outputs": [
    {
     "name": "stdout",
     "output_type": "stream",
     "text": [
      "Ingresa la inversión inicial: 2500\n",
      "Balance tras el primer año:2600.0\n",
      "Balance tras el segundo año:2704.0\n",
      "Balance tras el tercer año:2812.16\n"
     ]
    }
   ],
   "source": [
    "#EJERCICIO11\n",
    "inversion = float(input(\"Ingresa la inversión inicial: \"))\n",
    "interes = 0.04\n",
    "balance1 = inversion * (1 + interes)\n",
    "print(\"Balance tras el primer año:\" + str(round(balance1, 2)))\n",
    "balance2 = balance1 * (1 + interes)\n",
    "print(\"Balance tras el segundo año:\" + str(round(balance2, 2)))\n",
    "balance3 = balance2 * (1 + interes)\n",
    "print(\"Balance tras el tercer año:\" + str(round(balance3, 2)))"
   ]
  },
  {
   "cell_type": "code",
   "execution_count": 12,
   "id": "trying-facility",
   "metadata": {},
   "outputs": [
    {
     "name": "stdout",
     "output_type": "stream",
     "text": [
      "Introduce el número de barras vendidas que no son frescas: 100\n",
      "El coste de una barra fresca es 3.49$\n",
      "El descuento sobre una barra no fresca es 60.0%\n",
      "El coste final a pagar es 139.6$\n"
     ]
    }
   ],
   "source": [
    "#EJERCICIO12\n",
    "barras = int(input(\"Introduce el número de barras vendidas que no son frescas: \"))\n",
    "precio = 3.49 \n",
    "descuento = 0.6\n",
    "coste = barras * precio * (1 - descuento)\n",
    "print(\"El coste de una barra fresca es \" + str(precio) + \"$\")\n",
    "print(\"El descuento sobre una barra no fresca es \" + str(descuento * 100) + \"%\")\n",
    "print(\"El coste final a pagar es \" + str(round(coste, 2)) + \"$\")"
   ]
  },
  {
   "cell_type": "code",
   "execution_count": null,
   "id": "intensive-outreach",
   "metadata": {},
   "outputs": [],
   "source": []
  }
 ],
 "metadata": {
  "kernelspec": {
   "display_name": "Python 3",
   "language": "python",
   "name": "python3"
  },
  "language_info": {
   "codemirror_mode": {
    "name": "ipython",
    "version": 3
   },
   "file_extension": ".py",
   "mimetype": "text/x-python",
   "name": "python",
   "nbconvert_exporter": "python",
   "pygments_lexer": "ipython3",
   "version": "3.6.13"
  }
 },
 "nbformat": 4,
 "nbformat_minor": 5
}
