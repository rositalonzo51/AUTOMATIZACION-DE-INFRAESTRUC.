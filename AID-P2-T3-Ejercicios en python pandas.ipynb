{
  "nbformat": 4,
  "nbformat_minor": 0,
  "metadata": {
    "colab": {
      "name": "Untitled1.ipynb",
      "provenance": []
    },
    "kernelspec": {
      "name": "python3",
      "display_name": "Python 3"
    },
    "language_info": {
      "name": "python"
    }
  },
  "cells": [
    {
      "cell_type": "markdown",
      "metadata": {
        "id": "c9fPWGJaR5bh"
      },
      "source": [
        "# EJERCICIO-01\n",
        "Escribir un programa que pregunte al usuario por las ventas de un rango de años y muestre por pantalla una serie con los datos de las ventas indexada por los años, antes y después de aplicarles un descuento del 10%."
      ]
    },
    {
      "cell_type": "code",
      "metadata": {
        "colab": {
          "base_uri": "https://localhost:8080/",
          "height": 0
        },
        "id": "13IxqSqPR4Km",
        "outputId": "579b03ca-411a-4aaa-a42e-b1b2590bb5ef"
      },
      "source": [
        "import pandas as pd\n",
        "\n",
        "inicio = int(input('Introduce el año inicial: '))\n",
        "fin = int(input('Introduce el año final: '))\n",
        "ventas = {}\n",
        "for i in range(inicio, fin+1):\n",
        "    ventas[i] = float(input('Introduce las ventas del año ' + str(i) +': '))\n",
        "ventas = pd.Series(ventas)\n",
        "print('Ventas\\n', ventas)\n",
        "print('Ventas con descuento\\n', ventas*0.9)\n"
      ],
      "execution_count": 2,
      "outputs": [
        {
          "output_type": "stream",
          "text": [
            "Introduce el año inicial: 2018\n",
            "Introduce el año final: 2021\n",
            "Introduce las ventas del año 2018: 150000.0\n",
            "Introduce las ventas del año 2019: 160000.0\n",
            "Introduce las ventas del año 2020: 110000.0\n",
            "Introduce las ventas del año 2021: 200000.0\n",
            "Ventas\n",
            " 2018    150000.0\n",
            "2019    160000.0\n",
            "2020    110000.0\n",
            "2021    200000.0\n",
            "dtype: float64\n",
            "Ventas con descuento\n",
            " 2018    135000.0\n",
            "2019    144000.0\n",
            "2020     99000.0\n",
            "2021    180000.0\n",
            "dtype: float64\n"
          ],
          "name": "stdout"
        }
      ]
    },
    {
      "cell_type": "markdown",
      "metadata": {
        "id": "8JKW1ztJS4F-"
      },
      "source": [
        "# EJERCIO-2\n",
        "Escribir una función que reciba un diccionario con las notas de los alumnos en curso en un examen y devuelva una serie con la nota mínima, la máxima, media y la desviación típica."
      ]
    },
    {
      "cell_type": "code",
      "metadata": {
        "colab": {
          "base_uri": "https://localhost:8080/",
          "height": 0
        },
        "id": "jTdii_DFS6je",
        "outputId": "2f01e025-a515-4e55-8270-29fc0b44c339"
      },
      "source": [
        "import pandas as pd\n",
        "def nota_observacion(notas):\n",
        "    notas = pd.Series (notas)\n",
        "    estadisticos = pd.Series([notas.min(), notas.max(), notas.mean(), notas.std()], index=['Min', 'Max', 'Media', 'Desviación típica'])\n",
        "    return estadisticos\n",
        "\n",
        "notas = {'Alejandra':10.5, 'Emir':8.5, 'Angel':9, 'cinthia': 8.5, 'Maria': 5}\n",
        "print(nota_observacion (notas))  "
      ],
      "execution_count": 8,
      "outputs": [
        {
          "output_type": "stream",
          "text": [
            "Min                   5.000000\n",
            "Max                  10.500000\n",
            "Media                 8.300000\n",
            "Desviación típica     2.018663\n",
            "dtype: float64\n"
          ],
          "name": "stdout"
        }
      ]
    },
    {
      "cell_type": "markdown",
      "metadata": {
        "id": "wzcc_O81VXlv"
      },
      "source": [
        "# EJERCICIO 3# \n",
        "Escribir una función que reciba undiccionario con las notas de los alumnos en curso en un examen y devuelva una serie con las notas de los alumnos aprobados ordenadas de mayor a menor."
      ]
    },
    {
      "cell_type": "code",
      "metadata": {
        "colab": {
          "base_uri": "https://localhost:8080/",
          "height": 0
        },
        "id": "omAhOFtcVZdt",
        "outputId": "501e7ee9-19c7-46cf-90c8-6a17c26f7789"
      },
      "source": [
        "import pandas as pd\n",
        "\n",
        "def lista_aprobados(notas):\n",
        "    notas = pd.Series(notas)\n",
        "    return notas[notas >= 5].sort_values(ascending=False)\n",
        "\n",
        "notas = {'Juan':9, 'María':6.5, 'Pedro':4, 'Carmen': 8.5, 'Luis': 5}\n",
        "print(lista_aprobados(notas))"
      ],
      "execution_count": 9,
      "outputs": [
        {
          "output_type": "stream",
          "text": [
            "Juan      9.0\n",
            "Carmen    8.5\n",
            "María     6.5\n",
            "Luis      5.0\n",
            "dtype: float64\n"
          ],
          "name": "stdout"
        }
      ]
    },
    {
      "cell_type": "markdown",
      "metadata": {
        "id": "x4sxej7MWhSJ"
      },
      "source": [
        "# EJERCICIO-04\n",
        "Escribir programa que genere y muestre por pantalla un DataFrame con los datos de la tabla siguiente:\n",
        "                        \n",
        "                         \n",
        "| Mes     | Ventas | Gastos |\n",
        "| ------- | -----: | -----: |\n",
        "| Enero   |  30500 |  22000 |\n",
        "| Febrero |  35600 |  23400 |\n",
        "| Marzo   |  28300 |  18100 |\n",
        "| Abril   |  33900 |  20700 |"
      ]
    },
    {
      "cell_type": "code",
      "metadata": {
        "colab": {
          "base_uri": "https://localhost:8080/",
          "height": 0
        },
        "id": "8iSqDShinvmD",
        "outputId": "4325d94e-205e-4352-89f2-ab497f1b0c2b"
      },
      "source": [
        "import pandas as pd\n",
        "DATOS = {'Mes':['Enero', 'Febrero', 'Marzo', 'Abril'], 'Ventas':[30500, 35600, 28300, 33900], 'Gastos':[22000, 23400, 18100, 20700]}\n",
        "cont = pd.DataFrame(DATOS)\n",
        "print(cont)"
      ],
      "execution_count": 15,
      "outputs": [
        {
          "output_type": "stream",
          "text": [
            "       Mes  Ventas  Gastos\n",
            "0    Enero   30500   22000\n",
            "1  Febrero   35600   23400\n",
            "2    Marzo   28300   18100\n",
            "3    Abril   33900   20700\n"
          ],
          "name": "stdout"
        }
      ]
    },
    {
      "cell_type": "markdown",
      "metadata": {
        "id": "DNOSSyhYqEOJ"
      },
      "source": [
        "# Ejercicio 5\n",
        "Escribir una función que reciba un DataFrame con el formato del ejercicio anterior, una lista de meses, ydevuelva el balance (ventas -gastos) total en los meses indicados."
      ]
    },
    {
      "cell_type": "code",
      "metadata": {
        "colab": {
          "base_uri": "https://localhost:8080/",
          "height": 0
        },
        "id": "3Rsn9X_7qX_-",
        "outputId": "230aa16d-9e94-45c4-a50d-9656235c4dbb"
      },
      "source": [
        "import pandas as pd\n",
        "\n",
        "DATOS = {'Mes':['Enero', 'Febrero', 'Marzo', 'Abril'], 'Ventas':[30500, 35600, 28300, 33900], 'Gastos':[22000, 23400, 18100, 20700]}\n",
        "\n",
        "cont = pd.DataFrame(DATOS)\n",
        "\n",
        "def balance(contabilidad, meses):\n",
        "    contabilidad['Balance'] = contabilidad.Ventas - contabilidad.Gastos\n",
        "    return contabilidad[contabilidad.Mes.isin(meses)].Balance.sum()\n",
        "\n",
        "print(balance(contabilidad, ['Enero','Marzo']))"
      ],
      "execution_count": 17,
      "outputs": [
        {
          "output_type": "stream",
          "text": [
            "18700\n"
          ],
          "name": "stdout"
        }
      ]
    },
    {
      "cell_type": "markdown",
      "metadata": {
        "id": "mcABms4YqlBh"
      },
      "source": [
        "# Ejercicio 6\n",
        "El fichero [cotizacion.csv](https://github.com/asalber/aprendeconalf/blob/master/content/es/docencia/python/ejercicios/soluciones/pandas/cotizacion.csv)  contiene las cotizaciones delas empresas del IBEX35 con las siguientes columnas: nombre(nombre de la empresa), Final(precio de la acción al cierre de bolsa), Máximo(precio máximo de la acción durante la jornada), Mínimo(precio mínimo de la acción durante la jornada), volumen(Volumen al cierre de bolsa), Efectivo(capitalización al cierre en miles de euros). Construir una función que construya un DataFrame a partir deun fichero con el formato anterior y devuelva otro DataFrame con el mínimo, el máximo y la media de dada columna."
      ]
    },
    {
      "cell_type": "markdown",
      "metadata": {
        "id": "0D7iBwjUwRD4"
      },
      "source": [
        "# EJERCICIO-07\n",
        "El fichero titanic.csv contiene información sobre los pasajeros del Titanic. Escribir un programa con los siguientes requisitos\n",
        "\n",
        "1.   Generar un DataFrame con los datos del fichero\n",
        "2.   Mostrar por pantalla las dimensiones del DataFrame, el número de datos que\n",
        "3.   contiene, los nombres de sus columnas y filas, los tipos de datos de las  \n",
        "4.   columnas, las 10 primeras filas y las 10 últimas filas.\n",
        "5.   Mostrar por pantalla los datos del pasajero con identificador 148.\n",
        "6.    Mostrar por pantalla las filas pares del DataFrame.\n",
        "7.    Mostrar por pantalla los nombres de las personas que iban en primera clase ordenadas alfabéticamente.\n",
        "8.   Mostrar por pantalla el porcentaje de personas que sobrevivieron y murieron.\n",
        "9.    Mostrar por pantalla el porcentaje de personas que sobrevivieron en cada clase.\n",
        "20.  Eliminar del DataFrame los pasajeros con edad desconocida.\n",
        "11.  Mostrar por pantalla la edad media de las mujeres que viajaban en cada clase.\n",
        "11. Añadir una nueva columna booleana para ver si el pasajero era menor de edad o no.\n",
        "12. Mostrar por pantalla el porcentaje de menores y mayores de edad que sobrevivieron en cada clase.\n",
        "14.    Mostrar por pantalla los datos del pasajero con identificador 148.\n",
        "15. Mostrar por pantalla las filas pares del DataFrame.\n",
        "16. Mostrar por pantalla los nombres de las personas que iban en primera clase ordenadas alfabéticamente.\n",
        "17. Mostrar por pantalla el porcentaje de personas que sobrevivieron y murieron.\n",
        "19. Mostrar por pantalla el porcentaje de personas que sobrevivieron en cada clase.\n",
        "19. Eliminar del DataFrame los pasajeros con edad desconocida.\n",
        "20. Mostrar por pantalla la edad media de las mujeres que viajaban en cada clase.\n",
        "21. Añadir una nueva columna booleana para ver si el pasajero era menor de edad o no.\n",
        "22. Mostrar por pantalla el porcentaje de menores y mayores de edad que sobrevivieron en cada clase.\n"
      ]
    },
    {
      "cell_type": "code",
      "metadata": {
        "colab": {
          "base_uri": "https://localhost:8080/"
        },
        "id": "b_f44QVoyLNy",
        "outputId": "13b66c09-8da6-4723-a50b-5bee255a818f"
      },
      "source": [
        "import pandas as pd\n",
        "\n",
        "# Generar un DataFrame con los datos del fichero.\n",
        "titanic = pd.read_csv('titanic 1.csv', index_col=0)\n",
        "\n",
        "print(titanic)"
      ],
      "execution_count": 33,
      "outputs": [
        {
          "output_type": "stream",
          "text": [
            "             Survived  Pclass  ... Cabin Embarked\n",
            "PassengerId                    ...               \n",
            "1                   0       3  ...   NaN        S\n",
            "2                   1       1  ...   C85        C\n",
            "3                   1       3  ...   NaN        S\n",
            "4                   1       1  ...  C123        S\n",
            "5                   0       3  ...   NaN        S\n",
            "...               ...     ...  ...   ...      ...\n",
            "887                 0       2  ...   NaN        S\n",
            "888                 1       1  ...   B42        S\n",
            "889                 0       3  ...   NaN        S\n",
            "890                 1       1  ...  C148        C\n",
            "891                 0       3  ...   NaN        Q\n",
            "\n",
            "[891 rows x 11 columns]\n"
          ],
          "name": "stdout"
        }
      ]
    },
    {
      "cell_type": "code",
      "metadata": {
        "colab": {
          "base_uri": "https://localhost:8080/"
        },
        "id": "BBAWBjGI3hb8",
        "outputId": "59b8fcf5-1444-43cd-a100-803172445e49"
      },
      "source": [
        "# Mostrar por pantalla las dimensiones del DataFrame, el número de datos que contiene,\n",
        "# los nombres de sus columnasy filas, los tipos de datos de las columnas, las 10 primeras filas y las 10 últimas filas.\n",
        "print('Dimensiones:', titanic.shape)\n",
        "print('Número de elemntos:', titanic.size)\n",
        "print('Nombres de columnas:', titanic.columns)\n",
        "print('Nombres de filas:', titanic.index)\n",
        "print('Tipos de datos:\\n', titanic.dtypes)\n",
        "print('Primeras 10 filas:\\n', titanic.head(10))\n",
        "print('Últimas 10 filas:\\n', titanic.tail(10))"
      ],
      "execution_count": 34,
      "outputs": [
        {
          "output_type": "stream",
          "text": [
            "Dimensiones: (891, 11)\n",
            "Número de elemntos: 9801\n",
            "Nombres de columnas: Index(['Survived', 'Pclass', 'Name', 'Sex', 'Age', 'SibSp', 'Parch', 'Ticket',\n",
            "       'Fare', 'Cabin', 'Embarked'],\n",
            "      dtype='object')\n",
            "Nombres de filas: Int64Index([  1,   2,   3,   4,   5,   6,   7,   8,   9,  10,\n",
            "            ...\n",
            "            882, 883, 884, 885, 886, 887, 888, 889, 890, 891],\n",
            "           dtype='int64', name='PassengerId', length=891)\n",
            "Tipos de datos:\n",
            " Survived      int64\n",
            "Pclass        int64\n",
            "Name         object\n",
            "Sex          object\n",
            "Age         float64\n",
            "SibSp         int64\n",
            "Parch         int64\n",
            "Ticket       object\n",
            "Fare        float64\n",
            "Cabin        object\n",
            "Embarked     object\n",
            "dtype: object\n",
            "Primeras 10 filas:\n",
            "              Survived  Pclass  ... Cabin Embarked\n",
            "PassengerId                    ...               \n",
            "1                   0       3  ...   NaN        S\n",
            "2                   1       1  ...   C85        C\n",
            "3                   1       3  ...   NaN        S\n",
            "4                   1       1  ...  C123        S\n",
            "5                   0       3  ...   NaN        S\n",
            "6                   0       3  ...   NaN        Q\n",
            "7                   0       1  ...   E46        S\n",
            "8                   0       3  ...   NaN        S\n",
            "9                   1       3  ...   NaN        S\n",
            "10                  1       2  ...   NaN        C\n",
            "\n",
            "[10 rows x 11 columns]\n",
            "Últimas 10 filas:\n",
            "              Survived  Pclass  ... Cabin Embarked\n",
            "PassengerId                    ...               \n",
            "882                 0       3  ...   NaN        S\n",
            "883                 0       3  ...   NaN        S\n",
            "884                 0       2  ...   NaN        S\n",
            "885                 0       3  ...   NaN        S\n",
            "886                 0       3  ...   NaN        Q\n",
            "887                 0       2  ...   NaN        S\n",
            "888                 1       1  ...   B42        S\n",
            "889                 0       3  ...   NaN        S\n",
            "890                 1       1  ...  C148        C\n",
            "891                 0       3  ...   NaN        Q\n",
            "\n",
            "[10 rows x 11 columns]\n"
          ],
          "name": "stdout"
        }
      ]
    },
    {
      "cell_type": "code",
      "metadata": {
        "colab": {
          "base_uri": "https://localhost:8080/"
        },
        "id": "huVmfFtf5Bm2",
        "outputId": "d88a7c27-8abf-473d-d124-78fcc7a1a779"
      },
      "source": [
        "# Mostrar por pantalla los datos del pasajero con identificador 148\n",
        "print(titanic.loc[148])"
      ],
      "execution_count": 35,
      "outputs": [
        {
          "output_type": "stream",
          "text": [
            "Survived                                   0\n",
            "Pclass                                     3\n",
            "Name        Ford, Miss. Robina Maggie \"Ruby\"\n",
            "Sex                                   female\n",
            "Age                                        9\n",
            "SibSp                                      2\n",
            "Parch                                      2\n",
            "Ticket                            W./C. 6608\n",
            "Fare                                  34.375\n",
            "Cabin                                    NaN\n",
            "Embarked                                   S\n",
            "Name: 148, dtype: object\n"
          ],
          "name": "stdout"
        }
      ]
    },
    {
      "cell_type": "code",
      "metadata": {
        "colab": {
          "base_uri": "https://localhost:8080/"
        },
        "id": "TG2m_8ym79M8",
        "outputId": "20903e7c-43f0-46fd-a95a-b29b322077dd"
      },
      "source": [
        "# Mostrar por pantalla las filas pares del DataFrame.\n",
        "print(titanic.iloc[range(0,titanic.shape[0],2)])"
      ],
      "execution_count": 36,
      "outputs": [
        {
          "output_type": "stream",
          "text": [
            "             Survived  Pclass  ... Cabin Embarked\n",
            "PassengerId                    ...               \n",
            "1                   0       3  ...   NaN        S\n",
            "3                   1       3  ...   NaN        S\n",
            "5                   0       3  ...   NaN        S\n",
            "7                   0       1  ...   E46        S\n",
            "9                   1       3  ...   NaN        S\n",
            "...               ...     ...  ...   ...      ...\n",
            "883                 0       3  ...   NaN        S\n",
            "885                 0       3  ...   NaN        S\n",
            "887                 0       2  ...   NaN        S\n",
            "889                 0       3  ...   NaN        S\n",
            "891                 0       3  ...   NaN        Q\n",
            "\n",
            "[446 rows x 11 columns]\n"
          ],
          "name": "stdout"
        }
      ]
    },
    {
      "cell_type": "code",
      "metadata": {
        "colab": {
          "base_uri": "https://localhost:8080/"
        },
        "id": "2_JkAWwl8DrU",
        "outputId": "ac8a885b-a9d7-48f7-eac1-77f16109905b"
      },
      "source": [
        "# Mostrar los nombres de las personas que iban en primera clase ordenadas alfabéticamente.\n",
        "print(titanic[titanic[\"Pclass\"]==1]['Name'].sort_values())"
      ],
      "execution_count": 37,
      "outputs": [
        {
          "output_type": "stream",
          "text": [
            "PassengerId\n",
            "731                      Allen, Miss. Elisabeth Walton\n",
            "306                     Allison, Master. Hudson Trevor\n",
            "298                       Allison, Miss. Helen Loraine\n",
            "499    Allison, Mrs. Hudson J C (Bessie Waldo Daniels)\n",
            "461                                Anderson, Mr. Harry\n",
            "                            ...                       \n",
            "156                        Williams, Mr. Charles Duane\n",
            "352             Williams-Lambert, Mr. Fletcher Fellows\n",
            "56                                   Woolner, Mr. Hugh\n",
            "556                                 Wright, Mr. George\n",
            "326                           Young, Miss. Marie Grice\n",
            "Name: Name, Length: 216, dtype: object\n"
          ],
          "name": "stdout"
        }
      ]
    },
    {
      "cell_type": "code",
      "metadata": {
        "colab": {
          "base_uri": "https://localhost:8080/"
        },
        "id": "IMxkRoFZ8JJI",
        "outputId": "08f5abca-a98c-42cf-f644-a605fec5efa0"
      },
      "source": [
        "# Mostrar por pantalla el porcentaje de personas que sobrevivieron y murieron\n",
        "print(titanic['Survived'].value_counts()/titanic['Survived'].count() * 100)\n",
        "\n",
        "# Alternativa\n",
        "print(titanic['Survived'].value_counts(normalize=True) * 100)"
      ],
      "execution_count": 38,
      "outputs": [
        {
          "output_type": "stream",
          "text": [
            "0    61.616162\n",
            "1    38.383838\n",
            "Name: Survived, dtype: float64\n",
            "0    61.616162\n",
            "1    38.383838\n",
            "Name: Survived, dtype: float64\n"
          ],
          "name": "stdout"
        }
      ]
    },
    {
      "cell_type": "code",
      "metadata": {
        "colab": {
          "base_uri": "https://localhost:8080/"
        },
        "id": "BokJqJ9N8LA9",
        "outputId": "760b84ec-4af1-4b32-cbe5-6a20b534301b"
      },
      "source": [
        "#Mostrar por pantalla el porcentaje de personas que sobrevivieron en cada clase\n",
        "print(titanic.groupby('Pclass')['Survived'].value_counts(normalize=True))"
      ],
      "execution_count": 39,
      "outputs": [
        {
          "output_type": "stream",
          "text": [
            "Pclass  Survived\n",
            "1       1           0.629630\n",
            "        0           0.370370\n",
            "2       0           0.527174\n",
            "        1           0.472826\n",
            "3       0           0.757637\n",
            "        1           0.242363\n",
            "Name: Survived, dtype: float64\n"
          ],
          "name": "stdout"
        }
      ]
    },
    {
      "cell_type": "code",
      "metadata": {
        "colab": {
          "base_uri": "https://localhost:8080/",
          "height": 420
        },
        "id": "TmLEyrmi8O7p",
        "outputId": "0ed9840a-3a2a-48bf-9583-dbdbefb8fdda"
      },
      "source": [
        "# Eliminar del DataFrame los pasajeros con edad desconocida.\n",
        "titanic.dropna(subset=['Age'])\n",
        "\n",
        "# Alternativa \n",
        "# titanic = titanic[titanic['Age'].notna("
      ],
      "execution_count": 40,
      "outputs": [
        {
          "output_type": "execute_result",
          "data": {
            "text/html": [
              "<div>\n",
              "<style scoped>\n",
              "    .dataframe tbody tr th:only-of-type {\n",
              "        vertical-align: middle;\n",
              "    }\n",
              "\n",
              "    .dataframe tbody tr th {\n",
              "        vertical-align: top;\n",
              "    }\n",
              "\n",
              "    .dataframe thead th {\n",
              "        text-align: right;\n",
              "    }\n",
              "</style>\n",
              "<table border=\"1\" class=\"dataframe\">\n",
              "  <thead>\n",
              "    <tr style=\"text-align: right;\">\n",
              "      <th></th>\n",
              "      <th>Survived</th>\n",
              "      <th>Pclass</th>\n",
              "      <th>Name</th>\n",
              "      <th>Sex</th>\n",
              "      <th>Age</th>\n",
              "      <th>SibSp</th>\n",
              "      <th>Parch</th>\n",
              "      <th>Ticket</th>\n",
              "      <th>Fare</th>\n",
              "      <th>Cabin</th>\n",
              "      <th>Embarked</th>\n",
              "    </tr>\n",
              "    <tr>\n",
              "      <th>PassengerId</th>\n",
              "      <th></th>\n",
              "      <th></th>\n",
              "      <th></th>\n",
              "      <th></th>\n",
              "      <th></th>\n",
              "      <th></th>\n",
              "      <th></th>\n",
              "      <th></th>\n",
              "      <th></th>\n",
              "      <th></th>\n",
              "      <th></th>\n",
              "    </tr>\n",
              "  </thead>\n",
              "  <tbody>\n",
              "    <tr>\n",
              "      <th>1</th>\n",
              "      <td>0</td>\n",
              "      <td>3</td>\n",
              "      <td>Braund, Mr. Owen Harris</td>\n",
              "      <td>male</td>\n",
              "      <td>22.0</td>\n",
              "      <td>1</td>\n",
              "      <td>0</td>\n",
              "      <td>A/5 21171</td>\n",
              "      <td>7.2500</td>\n",
              "      <td>NaN</td>\n",
              "      <td>S</td>\n",
              "    </tr>\n",
              "    <tr>\n",
              "      <th>2</th>\n",
              "      <td>1</td>\n",
              "      <td>1</td>\n",
              "      <td>Cumings, Mrs. John Bradley (Florence Briggs Th...</td>\n",
              "      <td>female</td>\n",
              "      <td>38.0</td>\n",
              "      <td>1</td>\n",
              "      <td>0</td>\n",
              "      <td>PC 17599</td>\n",
              "      <td>71.2833</td>\n",
              "      <td>C85</td>\n",
              "      <td>C</td>\n",
              "    </tr>\n",
              "    <tr>\n",
              "      <th>3</th>\n",
              "      <td>1</td>\n",
              "      <td>3</td>\n",
              "      <td>Heikkinen, Miss. Laina</td>\n",
              "      <td>female</td>\n",
              "      <td>26.0</td>\n",
              "      <td>0</td>\n",
              "      <td>0</td>\n",
              "      <td>STON/O2. 3101282</td>\n",
              "      <td>7.9250</td>\n",
              "      <td>NaN</td>\n",
              "      <td>S</td>\n",
              "    </tr>\n",
              "    <tr>\n",
              "      <th>4</th>\n",
              "      <td>1</td>\n",
              "      <td>1</td>\n",
              "      <td>Futrelle, Mrs. Jacques Heath (Lily May Peel)</td>\n",
              "      <td>female</td>\n",
              "      <td>35.0</td>\n",
              "      <td>1</td>\n",
              "      <td>0</td>\n",
              "      <td>113803</td>\n",
              "      <td>53.1000</td>\n",
              "      <td>C123</td>\n",
              "      <td>S</td>\n",
              "    </tr>\n",
              "    <tr>\n",
              "      <th>5</th>\n",
              "      <td>0</td>\n",
              "      <td>3</td>\n",
              "      <td>Allen, Mr. William Henry</td>\n",
              "      <td>male</td>\n",
              "      <td>35.0</td>\n",
              "      <td>0</td>\n",
              "      <td>0</td>\n",
              "      <td>373450</td>\n",
              "      <td>8.0500</td>\n",
              "      <td>NaN</td>\n",
              "      <td>S</td>\n",
              "    </tr>\n",
              "    <tr>\n",
              "      <th>...</th>\n",
              "      <td>...</td>\n",
              "      <td>...</td>\n",
              "      <td>...</td>\n",
              "      <td>...</td>\n",
              "      <td>...</td>\n",
              "      <td>...</td>\n",
              "      <td>...</td>\n",
              "      <td>...</td>\n",
              "      <td>...</td>\n",
              "      <td>...</td>\n",
              "      <td>...</td>\n",
              "    </tr>\n",
              "    <tr>\n",
              "      <th>886</th>\n",
              "      <td>0</td>\n",
              "      <td>3</td>\n",
              "      <td>Rice, Mrs. William (Margaret Norton)</td>\n",
              "      <td>female</td>\n",
              "      <td>39.0</td>\n",
              "      <td>0</td>\n",
              "      <td>5</td>\n",
              "      <td>382652</td>\n",
              "      <td>29.1250</td>\n",
              "      <td>NaN</td>\n",
              "      <td>Q</td>\n",
              "    </tr>\n",
              "    <tr>\n",
              "      <th>887</th>\n",
              "      <td>0</td>\n",
              "      <td>2</td>\n",
              "      <td>Montvila, Rev. Juozas</td>\n",
              "      <td>male</td>\n",
              "      <td>27.0</td>\n",
              "      <td>0</td>\n",
              "      <td>0</td>\n",
              "      <td>211536</td>\n",
              "      <td>13.0000</td>\n",
              "      <td>NaN</td>\n",
              "      <td>S</td>\n",
              "    </tr>\n",
              "    <tr>\n",
              "      <th>888</th>\n",
              "      <td>1</td>\n",
              "      <td>1</td>\n",
              "      <td>Graham, Miss. Margaret Edith</td>\n",
              "      <td>female</td>\n",
              "      <td>19.0</td>\n",
              "      <td>0</td>\n",
              "      <td>0</td>\n",
              "      <td>112053</td>\n",
              "      <td>30.0000</td>\n",
              "      <td>B42</td>\n",
              "      <td>S</td>\n",
              "    </tr>\n",
              "    <tr>\n",
              "      <th>890</th>\n",
              "      <td>1</td>\n",
              "      <td>1</td>\n",
              "      <td>Behr, Mr. Karl Howell</td>\n",
              "      <td>male</td>\n",
              "      <td>26.0</td>\n",
              "      <td>0</td>\n",
              "      <td>0</td>\n",
              "      <td>111369</td>\n",
              "      <td>30.0000</td>\n",
              "      <td>C148</td>\n",
              "      <td>C</td>\n",
              "    </tr>\n",
              "    <tr>\n",
              "      <th>891</th>\n",
              "      <td>0</td>\n",
              "      <td>3</td>\n",
              "      <td>Dooley, Mr. Patrick</td>\n",
              "      <td>male</td>\n",
              "      <td>32.0</td>\n",
              "      <td>0</td>\n",
              "      <td>0</td>\n",
              "      <td>370376</td>\n",
              "      <td>7.7500</td>\n",
              "      <td>NaN</td>\n",
              "      <td>Q</td>\n",
              "    </tr>\n",
              "  </tbody>\n",
              "</table>\n",
              "<p>714 rows × 11 columns</p>\n",
              "</div>"
            ],
            "text/plain": [
              "             Survived  Pclass  ... Cabin Embarked\n",
              "PassengerId                    ...               \n",
              "1                   0       3  ...   NaN        S\n",
              "2                   1       1  ...   C85        C\n",
              "3                   1       3  ...   NaN        S\n",
              "4                   1       1  ...  C123        S\n",
              "5                   0       3  ...   NaN        S\n",
              "...               ...     ...  ...   ...      ...\n",
              "886                 0       3  ...   NaN        Q\n",
              "887                 0       2  ...   NaN        S\n",
              "888                 1       1  ...   B42        S\n",
              "890                 1       1  ...  C148        C\n",
              "891                 0       3  ...   NaN        Q\n",
              "\n",
              "[714 rows x 11 columns]"
            ]
          },
          "metadata": {
            "tags": []
          },
          "execution_count": 40
        }
      ]
    },
    {
      "cell_type": "code",
      "metadata": {
        "colab": {
          "base_uri": "https://localhost:8080/"
        },
        "id": "UIAY4x-M8SH-",
        "outputId": "17e3f119-e263-4b17-cf5e-0eed546314d6"
      },
      "source": [
        "# Mostrar la edad media de las mujeres que viajaban en cada clase.\n",
        "print(titanic.groupby(['Pclass','Sex'])['Age'].mean().unstack()['female'])"
      ],
      "execution_count": 41,
      "outputs": [
        {
          "output_type": "stream",
          "text": [
            "Pclass\n",
            "1    34.611765\n",
            "2    28.722973\n",
            "3    21.750000\n",
            "Name: female, dtype: float64\n"
          ],
          "name": "stdout"
        }
      ]
    },
    {
      "cell_type": "code",
      "metadata": {
        "id": "2MloAEF08VzE"
      },
      "source": [
        "# Añadir una nueva columna booleana para ver si el pasajero era menor de edad o no.\n",
        "titanic['Young'] = titanic['Age'] < 18"
      ],
      "execution_count": 43,
      "outputs": []
    },
    {
      "cell_type": "code",
      "metadata": {
        "colab": {
          "base_uri": "https://localhost:8080/"
        },
        "id": "2trNMqQO8c71",
        "outputId": "d9a58421-7d95-4715-f0de-7a14eda8454c"
      },
      "source": [
        "# Mostrar el porcentaje de menores y mayores de edad que sobrevivieron en cada clase.\n",
        "print(titanic.groupby(['Pclass', 'Young'])['Survived'].value_counts(normalize = True) * 100)"
      ],
      "execution_count": 44,
      "outputs": [
        {
          "output_type": "stream",
          "text": [
            "Pclass  Young  Survived\n",
            "1       False  1           61.274510\n",
            "               0           38.725490\n",
            "        True   1           91.666667\n",
            "               0            8.333333\n",
            "2       False  0           59.006211\n",
            "               1           40.993789\n",
            "        True   1           91.304348\n",
            "               0            8.695652\n",
            "3       False  0           78.208232\n",
            "               1           21.791768\n",
            "        True   0           62.820513\n",
            "               1           37.179487\n",
            "Name: Survived, dtype: float64\n"
          ],
          "name": "stdout"
        }
      ]
    }
  ]
}